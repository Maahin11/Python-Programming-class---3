{
  "nbformat": 4,
  "nbformat_minor": 0,
  "metadata": {
    "colab": {
      "provenance": [],
      "toc_visible": true
    },
    "kernelspec": {
      "name": "python3",
      "display_name": "Python 3"
    },
    "language_info": {
      "name": "python"
    }
  },
  "cells": [
    {
      "cell_type": "code",
      "execution_count": null,
      "metadata": {
        "id": "LQ0_a5kWEsnv",
        "colab": {
          "base_uri": "https://localhost:8080/"
        },
        "outputId": "809bb0f0-b44c-4d16-cfca-c368b843fecd"
      },
      "outputs": [
        {
          "output_type": "stream",
          "name": "stdout",
          "text": [
            "Summation:  1\n",
            "Summation:  3\n",
            "Summation:  6\n",
            "Summation:  10\n",
            "Summation:  15\n",
            "Summation:  21\n",
            "Summation:  28\n",
            "Summation:  36\n",
            "Summation:  45\n",
            "Summation:  55\n",
            "Summation:  66\n",
            "Summation:  78\n",
            "Summation:  91\n",
            "Summation:  105\n",
            "Summation:  120\n",
            "Summation:  136\n",
            "Summation:  153\n",
            "Summation:  171\n",
            "Summation:  190\n",
            "Summation:  210\n",
            "Summation:  231\n",
            "Summation:  253\n",
            "Summation:  276\n",
            "Summation:  300\n",
            "Summation:  325\n",
            "Summation:  351\n",
            "Summation:  378\n",
            "Summation:  406\n",
            "Summation:  435\n",
            "Summation:  465\n",
            "Summation:  496\n",
            "Summation:  528\n",
            "Summation:  561\n",
            "Summation:  595\n",
            "Summation:  630\n",
            "Summation:  666\n",
            "Summation:  703\n",
            "Summation:  741\n",
            "Summation:  780\n",
            "Summation:  820\n",
            "Summation:  861\n",
            "Summation:  903\n",
            "Summation:  946\n",
            "Summation:  990\n",
            "Summation:  1035\n",
            "Summation:  1081\n",
            "Summation:  1128\n",
            "Summation:  1176\n",
            "Summation:  1225\n",
            "Summation:  1275\n"
          ]
        }
      ],
      "source": [
        "sum = 0\n",
        "i = 1\n",
        "while i <= 50:\n",
        "    sum = sum + i\n",
        "    i += 1\n",
        "    print(\"Summation: \", sum)"
      ]
    },
    {
      "cell_type": "code",
      "source": [
        "number = 15\n",
        "while number <= 30:\n",
        "    print(number)\n",
        "    number += 1\n"
      ],
      "metadata": {
        "colab": {
          "base_uri": "https://localhost:8080/"
        },
        "id": "nksTxPmOIoQX",
        "outputId": "8679d9a0-cb16-4c86-9aad-85023193a957"
      },
      "execution_count": null,
      "outputs": [
        {
          "output_type": "stream",
          "name": "stdout",
          "text": [
            "15\n",
            "16\n",
            "17\n",
            "18\n",
            "19\n",
            "20\n",
            "21\n",
            "22\n",
            "23\n",
            "24\n",
            "25\n",
            "26\n",
            "27\n",
            "28\n",
            "29\n",
            "30\n"
          ]
        }
      ]
    },
    {
      "cell_type": "code",
      "source": [
        "number = 50\n",
        "sum = 0\n",
        "while number <= 100:\n",
        "  sum = sum + number\n",
        "  number +=1\n",
        "  print(\"Summetion: \",sum)"
      ],
      "metadata": {
        "colab": {
          "base_uri": "https://localhost:8080/"
        },
        "id": "4RmLThN_KOj3",
        "outputId": "7e15d70a-0a25-494c-e125-23e818dc47d2"
      },
      "execution_count": null,
      "outputs": [
        {
          "output_type": "stream",
          "name": "stdout",
          "text": [
            "Summetion:  50\n",
            "Summetion:  101\n",
            "Summetion:  153\n",
            "Summetion:  206\n",
            "Summetion:  260\n",
            "Summetion:  315\n",
            "Summetion:  371\n",
            "Summetion:  428\n",
            "Summetion:  486\n",
            "Summetion:  545\n",
            "Summetion:  605\n",
            "Summetion:  666\n",
            "Summetion:  728\n",
            "Summetion:  791\n",
            "Summetion:  855\n",
            "Summetion:  920\n",
            "Summetion:  986\n",
            "Summetion:  1053\n",
            "Summetion:  1121\n",
            "Summetion:  1190\n",
            "Summetion:  1260\n",
            "Summetion:  1331\n",
            "Summetion:  1403\n",
            "Summetion:  1476\n",
            "Summetion:  1550\n",
            "Summetion:  1625\n",
            "Summetion:  1701\n",
            "Summetion:  1778\n",
            "Summetion:  1856\n",
            "Summetion:  1935\n",
            "Summetion:  2015\n",
            "Summetion:  2096\n",
            "Summetion:  2178\n",
            "Summetion:  2261\n",
            "Summetion:  2345\n",
            "Summetion:  2430\n",
            "Summetion:  2516\n",
            "Summetion:  2603\n",
            "Summetion:  2691\n",
            "Summetion:  2780\n",
            "Summetion:  2870\n",
            "Summetion:  2961\n",
            "Summetion:  3053\n",
            "Summetion:  3146\n",
            "Summetion:  3240\n",
            "Summetion:  3335\n",
            "Summetion:  3431\n",
            "Summetion:  3528\n",
            "Summetion:  3626\n",
            "Summetion:  3725\n",
            "Summetion:  3825\n"
          ]
        }
      ]
    },
    {
      "cell_type": "code",
      "source": [
        "i = 1\n",
        "while i <= 20:\n",
        "    if not (i % 2):\n",
        "        print(i)\n",
        "    i += 1\n"
      ],
      "metadata": {
        "id": "3lzQoHf7LBxl",
        "colab": {
          "base_uri": "https://localhost:8080/"
        },
        "outputId": "a71f0680-1615-4f1d-84ff-2f03dd5abca6"
      },
      "execution_count": null,
      "outputs": [
        {
          "output_type": "stream",
          "name": "stdout",
          "text": [
            "2\n",
            "4\n",
            "6\n",
            "8\n",
            "10\n",
            "12\n",
            "14\n",
            "16\n",
            "18\n",
            "20\n"
          ]
        }
      ]
    },
    {
      "cell_type": "code",
      "source": [],
      "metadata": {
        "id": "YuAmaJFrZFKr"
      },
      "execution_count": null,
      "outputs": []
    },
    {
      "cell_type": "code",
      "source": [
        "n = int(input(\"Enter a number: \"))\n",
        "factorial = 1\n",
        "i = 1\n",
        "\n",
        "while i <= n:\n",
        "    factorial *= i\n",
        "    i += 1\n",
        "\n",
        "print(f\"The factorial of {n} is: {factorial}\")\n"
      ],
      "metadata": {
        "id": "yQNF31NUNW9X",
        "colab": {
          "base_uri": "https://localhost:8080/"
        },
        "outputId": "e471e643-4795-43b3-f2b8-955ccf5213eb"
      },
      "execution_count": null,
      "outputs": [
        {
          "output_type": "stream",
          "name": "stdout",
          "text": [
            "Enter a number: 20\n",
            "The factorial of 20 is: 2432902008176640000\n"
          ]
        }
      ]
    },
    {
      "cell_type": "code",
      "source": [
        "n = int (input (\"Enter a number: \"))\n",
        "sum = 0\n",
        "while n>0:\n",
        "  d = n % 10\n",
        "  n //= 10\n",
        "  sum += d\n",
        "print(sum)"
      ],
      "metadata": {
        "colab": {
          "base_uri": "https://localhost:8080/"
        },
        "id": "pTdt850JWpRt",
        "outputId": "21afe61e-3c12-4366-a108-c8fe85b8b979"
      },
      "execution_count": null,
      "outputs": [
        {
          "output_type": "stream",
          "name": "stdout",
          "text": [
            "Enter a number: 34567\n",
            "25\n"
          ]
        }
      ]
    },
    {
      "cell_type": "code",
      "source": [
        "A = [36, 69, 24, 32, 45, 73]\n",
        "print(A)\n",
        "print(A[2])\n",
        "A[3] = A[2]\n",
        "A[1] += 10\n",
        "print(A)\n",
        "\n",
        "A[1] += 10\n",
        "print(A)"
      ],
      "metadata": {
        "colab": {
          "base_uri": "https://localhost:8080/"
        },
        "id": "pW-6Z-9sZS0l",
        "outputId": "624753d3-5ef1-4c51-d873-a4f98d106dfa"
      },
      "execution_count": null,
      "outputs": [
        {
          "output_type": "stream",
          "name": "stdout",
          "text": [
            "[36, 69, 24, 32, 45, 73]\n",
            "24\n",
            "[36, 79, 24, 24, 45, 73]\n",
            "[36, 89, 24, 24, 45, 73]\n"
          ]
        }
      ]
    },
    {
      "cell_type": "code",
      "source": [
        "A = [36, 69, 24, 32, 45, 73]\n",
        "i = 0\n",
        "while i <= len(A)/2:\n",
        "    A[i], A[len(A)-i-1] = A[len(A)-i-1], A[i]\n",
        "    i +=1\n",
        "print(A)"
      ],
      "metadata": {
        "colab": {
          "base_uri": "https://localhost:8080/"
        },
        "id": "THtedzc4cSbf",
        "outputId": "cd9b9d1d-a325-4dd8-907a-4fc176372662"
      },
      "execution_count": null,
      "outputs": [
        {
          "output_type": "stream",
          "name": "stdout",
          "text": [
            "[73, 45, 24, 32, 69, 36]\n"
          ]
        }
      ]
    },
    {
      "cell_type": "code",
      "source": [
        "A = [36, 69, 24, 32, 45, 73]\n",
        "max = A[0]\n",
        "i = 1\n",
        "\n",
        "while i < len(A):\n",
        "    if max < A[i]:\n",
        "        max = A[i]\n",
        "    i += 1\n",
        "\n",
        "print(max)\n"
      ],
      "metadata": {
        "colab": {
          "base_uri": "https://localhost:8080/"
        },
        "id": "7WYaxQGYd-az",
        "outputId": "9d051519-ceb3-4a40-cc62-1524693fece9"
      },
      "execution_count": null,
      "outputs": [
        {
          "output_type": "stream",
          "name": "stdout",
          "text": [
            "73\n"
          ]
        }
      ]
    },
    {
      "cell_type": "code",
      "source": [
        "while True:\n",
        "  line = input('>')\n",
        "  if line == 'done':\n",
        "    break\n",
        "    print(line)\n"
      ],
      "metadata": {
        "colab": {
          "base_uri": "https://localhost:8080/"
        },
        "id": "oP74lXhngFRv",
        "outputId": "0e87a891-a8d0-4e66-aef4-fa4e51ede7bf"
      },
      "execution_count": null,
      "outputs": [
        {
          "name": "stdout",
          "output_type": "stream",
          "text": [
            ">hello\n",
            ">hi\n",
            ">done\n"
          ]
        }
      ]
    },
    {
      "cell_type": "code",
      "source": [
        "while True:\n",
        "  line = input('>')\n",
        "  if line[0] == '#':\n",
        "    continue\n",
        "  if line == 'done':\n",
        "    break\n",
        "    print(line)\n"
      ],
      "metadata": {
        "colab": {
          "base_uri": "https://localhost:8080/"
        },
        "id": "bD8OWeaWhDcq",
        "outputId": "dcd0a017-c4bc-44bd-aa42-11dcd591d87d"
      },
      "execution_count": null,
      "outputs": [
        {
          "name": "stdout",
          "output_type": "stream",
          "text": [
            ">Hello \n",
            "># don't do this\n",
            ">how are you?\n",
            ">done\n"
          ]
        }
      ]
    },
    {
      "cell_type": "code",
      "source": [
        "A = [36, 69, 24, 32, 45, 73]\n",
        "i = 0\n",
        "while i < len(A):\n",
        "    if A[i] < 0:\n",
        "        break\n",
        "    else:\n",
        "        print(A[i])\n",
        "    i += 1\n"
      ],
      "metadata": {
        "colab": {
          "base_uri": "https://localhost:8080/"
        },
        "id": "KOZMGLOuiIkZ",
        "outputId": "9d0949a6-ffd4-4e5e-a899-30e01bd0958e"
      },
      "execution_count": null,
      "outputs": [
        {
          "output_type": "stream",
          "name": "stdout",
          "text": [
            "36\n",
            "69\n",
            "24\n",
            "32\n",
            "45\n",
            "73\n"
          ]
        }
      ]
    },
    {
      "cell_type": "code",
      "source": [],
      "metadata": {
        "id": "vHIozqjjjilq"
      },
      "execution_count": null,
      "outputs": []
    }
  ]
}